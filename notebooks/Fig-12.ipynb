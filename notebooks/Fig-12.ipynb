{
 "cells": [
  {
   "cell_type": "code",
   "execution_count": 10,
   "metadata": {},
   "outputs": [],
   "source": [
    "%matplotlib inline\n",
    "import numpy as np\n",
    "import matplotlib.pyplot as plt"
   ]
  },
  {
   "cell_type": "code",
   "execution_count": 3,
   "metadata": {},
   "outputs": [],
   "source": [
    "# From Dipole_ideal.ipynb\n",
    "sim_data_file_path = '/Users/susannedahle/CellTypeDependenceElStim/simulation_data/compare_wn_ideal_tf.npy'\n",
    "sim_data= np.load(sim_data_file_path, allow_pickle=True).item()"
   ]
  },
  {
   "cell_type": "code",
   "execution_count": 4,
   "metadata": {},
   "outputs": [],
   "source": [
    "def calculate_transfer_function(params, freqs):\n",
    "    \"\"\"\n",
    "    Calculates T_p\n",
    "\n",
    "    Args:\n",
    "        params (dict): A dictionary containing the biophysical parameters.\n",
    "        freqs (np.ndarray): An array of frequencies (in Hz) to calculate the PSD for.\n",
    "\n",
    "    Returns:\n",
    "        tuple: A tuple containing:\n",
    "            - freqs (np.ndarray): The input frequency array.\n",
    "            - abs_T_p (np.ndarray): The absolute value of the calculated Transfer function for the ball-and-two-stick model.\n",
    "    \"\"\"\n",
    "    # --- 1. Extract parameters and convert to SI units ---\n",
    "    Rm = params['Rm']  # Specific membrane resistance (Ohm * m^2)\n",
    "    Ri = params['Ri']  # Axial resistivity (Ohm * m)\n",
    "    Cm = params['Cm']  # Specific membrane capacitance (F / m^2)\n",
    "    d = params['d']    # Stick diameter (m)\n",
    "    ds = params['ds']  # Soma diameter (m)\n",
    "    l1 = params['l1']  # Length of stick 1 (m)\n",
    "    l2 = params['l2']  # Length of stick 2 (m)\n",
    "    s_in = params['s_in'] # PSD of white noise input current (A^2 / Hz)\n",
    "\n",
    "    # --- 2. Calculate derived cable properties ---\n",
    "    # Angular frequency\n",
    "    omega = 2 * np.pi * freqs\n",
    "    # Add a small epsilon to the first frequency to avoid division by zero if f=0\n",
    "    omega[0] = omega[0] + 1e-9\n",
    "\n",
    "    # Membrane time constant (s)\n",
    "    tau_m = Rm * Cm\n",
    "\n",
    "    # Length constant (m)\n",
    "    # This is the standard definition from cable theory (e.g., Rall, 1959)\n",
    "    lambda_ = np.sqrt((d * Rm) / (4 * Ri))\n",
    "\n",
    "    # Electrotonic lengths (dimensionless)\n",
    "    L1 = l1 / lambda_\n",
    "    L2 = l2 / lambda_\n",
    "\n",
    "    # Dimensionless frequency\n",
    "    W = omega * tau_m\n",
    "\n",
    "    # Complex frequency-dependent term q\n",
    "    q = np.sqrt(1 + 1j * W)\n",
    "\n",
    "    # --- 3. Calculate admittances (inverse of impedance) ---\n",
    "    # Admittance of the soma (S)\n",
    "    Ys = np.pi * ds**2 * (1/Rm) * q**2\n",
    "\n",
    "    # Infinite-stick admittance (S)\n",
    "    G_inf = np.pi * d**2 / (4 * Ri * lambda_)\n",
    "    Y_inf = q * G_inf\n",
    "\n",
    "    # Total input admittance seen by the soma (S)\n",
    "    # This is the parallel sum of the soma and the two finite sticks.\n",
    "    Y_in_total = Ys + Y_inf * (np.tanh(q * L1) + np.tanh(q * L2))\n",
    "\n",
    "    # --- 4. Calculate the transfer function T_p(f) ---\n",
    "    # Derived for the ball-and-two-stick model.\n",
    "    # The numerator represents the difference in dipole moments from the two sticks.\n",
    "    numerator = lambda_ * G_inf * (1/np.cosh(q * L2) - 1/np.cosh(q * L1))\n",
    "\n",
    "    # The denominator is the total admittance\n",
    "    denominator = Y_in_total\n",
    "\n",
    "    T_p = numerator / denominator\n",
    "    abs_T_p = np.abs(T_p)\n",
    "\n",
    "    return freqs, abs_T_p"
   ]
  },
  {
   "cell_type": "code",
   "execution_count": 6,
   "metadata": {},
   "outputs": [],
   "source": [
    "standard_neuron_parameters = {\n",
    "    'Rm': 3.0,          # Ohm * m^2\n",
    "    'Ri': 1.5,          # Ohm * m\n",
    "    'Cm': 0.01,         # F / m^2\n",
    "    'd': 2e-6,          # 2 µm -> m\n",
    "    'ds': 20e-6,        # 20 µm -> m\n",
    "    'l1': 670e-6,       # 670 µm -> m (Longer stick)\n",
    "    'l2': 330e-6,       # 330 µm -> m (Shorter stick)\n",
    "    's_in': (1e-15)**2  # 1 fA^2/Hz -> A^2/Hz\n",
    "}\n",
    "\n",
    "frequencies = np.logspace(-1, 4, 1000)"
   ]
  },
  {
   "cell_type": "code",
   "execution_count": 7,
   "metadata": {},
   "outputs": [],
   "source": [
    "# Calculate transfer function for the same properties as used in simulation \"white_noise_ideal_to_compare_Tp\"\n",
    "params_one = standard_neuron_parameters.copy()\n",
    "params_one['l1'] = 1e-3\n",
    "params_one['l2'] = 0.5*1e-3\n",
    "\n",
    "# --- Calculate the PSD for the asymmetric case ---\n",
    "freqs_one, abs_T_p_one = calculate_transfer_function(params_one, frequencies.copy())\n",
    "\n",
    "# --- For comparison, calculate the PSD for a symmetric case ---\n",
    "# Here, the lengths are equal, so the net dipole moment should be zero.\n",
    "params_two = standard_neuron_parameters.copy()\n",
    "params_two['l1'] = 0.6*1e-3\n",
    "params_two['l2'] = 0.1*1e-3\n",
    "params_two['ds'] = 10e-6\n",
    "freqs_two, abs_T_p_two = calculate_transfer_function(params_two, frequencies.copy())"
   ]
  },
  {
   "cell_type": "code",
   "execution_count": 11,
   "metadata": {},
   "outputs": [
    {
     "data": {
      "image/png": "[encoded data removed]",
      "text/plain": [
       "<Figure size 300x200 with 1 Axes>"
      ]
     },
     "metadata": {},
     "output_type": "display_data"
    }
   ],
   "source": [
    "from itertools import islice\n",
    "# --- Plot normalized PSDs and simulation dipole data ---\n",
    "plt.style.use('seaborn-v0_8-whitegrid')\n",
    "fig, ax = plt.subplots(figsize=(3, 2))\n",
    "\n",
    "plt.rcParams['mathtext.fontset'] = 'stix'\n",
    "\n",
    "# Neuron 1\n",
    "ax.loglog(freqs_one, abs_T_p_one,\n",
    "          label=f'$|T_p^s|$: Neuron one', \n",
    "          color='tab:cyan')\n",
    "ax.loglog(sim_data['BL_-500_UL_1000_SD_20_DD_1_2_DD_2_2']['cdm_freqs'], sim_data['BL_-500_UL_1000_SD_20_DD_1_2_DD_2_2']['cdm_per_input_current'][0]*10**(-6), #cdm_sim = nA*µm, input_current = nA, cdm/input_current = µm\n",
    "          label=f\"Simulation: Neuron one\", color = 'tab:blue', linestyle='--')\n",
    "\n",
    "\n",
    "#Neuron 2\n",
    "ax.loglog(freqs_two, abs_T_p_two,\n",
    "          label=f'$|T_p^s|$: Neuron two',\n",
    "          color='tab:orange')\n",
    "ax.loglog(sim_data['BL_-100_UL_600_SD_10_DD_1_2_DD_2_2']['cdm_freqs'], sim_data['BL_-100_UL_600_SD_10_DD_1_2_DD_2_2']['cdm_per_input_current'][0]*10**(-6), \n",
    "          label=f\"Simulation: Neuron two\", color = 'tab:red', linestyle='--')\n",
    "\n",
    "# Formatting\n",
    "ax.set_title('Transfer function compared with Simulation $P_z /I_s^{in}$')\n",
    "ax.set_xlabel('Frequency (Hz)')\n",
    "ax.set_ylabel('Dipole moment per Input current (m)')\n",
    "ax.set_xlim(left=1, right=7*10**3)\n",
    "#ax.set_ylim(bottom=1e-17)\n",
    "ax.legend(loc = 'lower left', fontsize = 6)\n",
    "ax.grid(True, which=\"both\", ls=\"-\", alpha=0.5)\n",
    "\n",
    "\n",
    "plt.tight_layout()\n",
    "plt.show()\n"
   ]
  },
  {
   "cell_type": "code",
   "execution_count": null,
   "metadata": {},
   "outputs": [],
   "source": []
  }
 ],
 "metadata": {
  "kernelspec": {
   "display_name": "base",
   "language": "python",
   "name": "python3"
  },
  "language_info": {
   "codemirror_mode": {
    "name": "ipython",
    "version": 3
   },
   "file_extension": ".py",
   "mimetype": "text/x-python",
   "name": "python",
   "nbconvert_exporter": "python",
   "pygments_lexer": "ipython3",
   "version": "3.12.2"
  }
 },
 "nbformat": 4,
 "nbformat_minor": 2
}
